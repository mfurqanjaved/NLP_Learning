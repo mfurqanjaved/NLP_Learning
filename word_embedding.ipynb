{
 "cells": [
  {
   "cell_type": "code",
   "execution_count": 50,
   "metadata": {},
   "outputs": [],
   "source": [
    "from tensorflow.keras.preprocessing.text import one_hot"
   ]
  },
  {
   "cell_type": "code",
   "execution_count": 51,
   "metadata": {},
   "outputs": [],
   "source": [
    "sent = ['the glass of milk',\n",
    "        'the glass of juice',\n",
    "        'the cup of tea',\n",
    "        'i am good developer',\n",
    "        'your videos are good']\n"
   ]
  },
  {
   "cell_type": "code",
   "execution_count": 52,
   "metadata": {},
   "outputs": [
    {
     "data": {
      "text/plain": [
       "['the glass of milk',\n",
       " 'the glass of juice',\n",
       " 'the cup of tea',\n",
       " 'i am good developer',\n",
       " 'your videos are good']"
      ]
     },
     "execution_count": 52,
     "metadata": {},
     "output_type": "execute_result"
    }
   ],
   "source": [
    "sent"
   ]
  },
  {
   "cell_type": "code",
   "execution_count": 53,
   "metadata": {},
   "outputs": [],
   "source": [
    "vocab_size = 10000"
   ]
  },
  {
   "cell_type": "code",
   "execution_count": 54,
   "metadata": {},
   "outputs": [
    {
     "name": "stdout",
     "output_type": "stream",
     "text": [
      "[[1213, 8395, 2368, 4251], [1213, 8395, 2368, 2250], [1213, 596, 2368, 534], [859, 8527, 4371, 3191], [5230, 294, 2710, 4371]]\n"
     ]
    }
   ],
   "source": [
    "onehot_repr = [one_hot(words, vocab_size) for words in sent]\n",
    "print(onehot_repr)"
   ]
  },
  {
   "cell_type": "code",
   "execution_count": 55,
   "metadata": {},
   "outputs": [],
   "source": [
    "from tensorflow.keras.layers import Embedding\n",
    "from tensorflow.keras.preprocessing.sequence import pad_sequences\n",
    "from tensorflow.keras.models import Sequential"
   ]
  },
  {
   "cell_type": "code",
   "execution_count": 56,
   "metadata": {},
   "outputs": [],
   "source": [
    "import numpy as np"
   ]
  },
  {
   "cell_type": "code",
   "execution_count": 57,
   "metadata": {},
   "outputs": [
    {
     "name": "stdout",
     "output_type": "stream",
     "text": [
      "[[   0    0    0    0 1213 8395 2368 4251]\n",
      " [   0    0    0    0 1213 8395 2368 2250]\n",
      " [   0    0    0    0 1213  596 2368  534]\n",
      " [   0    0    0    0  859 8527 4371 3191]\n",
      " [   0    0    0    0 5230  294 2710 4371]]\n"
     ]
    }
   ],
   "source": [
    "sent_length = 8\n",
    "embedded_docs = pad_sequences(onehot_repr, padding='pre', maxlen=sent_length)\n",
    "print(embedded_docs)"
   ]
  },
  {
   "cell_type": "code",
   "execution_count": 58,
   "metadata": {},
   "outputs": [],
   "source": [
    "dim=15"
   ]
  },
  {
   "cell_type": "code",
   "execution_count": 59,
   "metadata": {},
   "outputs": [],
   "source": [
    "model = Sequential()\n",
    "model.add(Embedding(vocab_size, dim, input_length=sent_length))\n",
    "model.compile('adam', 'mse')"
   ]
  },
  {
   "cell_type": "code",
   "execution_count": 60,
   "metadata": {},
   "outputs": [
    {
     "name": "stdout",
     "output_type": "stream",
     "text": [
      "Model: \"sequential_3\"\n",
      "_________________________________________________________________\n",
      " Layer (type)                Output Shape              Param #   \n",
      "=================================================================\n",
      " embedding_3 (Embedding)     (None, 8, 15)             150000    \n",
      "                                                                 \n",
      "=================================================================\n",
      "Total params: 150,000\n",
      "Trainable params: 150,000\n",
      "Non-trainable params: 0\n",
      "_________________________________________________________________\n"
     ]
    }
   ],
   "source": [
    "model.summary()"
   ]
  },
  {
   "cell_type": "code",
   "execution_count": 62,
   "metadata": {},
   "outputs": [
    {
     "data": {
      "text/plain": [
       "array([   0,    0,    0,    0, 1213, 8395, 2368, 4251])"
      ]
     },
     "execution_count": 62,
     "metadata": {},
     "output_type": "execute_result"
    }
   ],
   "source": [
    "embedded_docs[0]"
   ]
  },
  {
   "cell_type": "code",
   "execution_count": 63,
   "metadata": {},
   "outputs": [
    {
     "name": "stdout",
     "output_type": "stream",
     "text": [
      "1/1 [==============================] - 0s 24ms/step\n",
      "[[ 1.8174890e-02 -2.9457582e-02  4.7813240e-02  2.8921191e-02\n",
      "  -3.3936612e-03  5.8644041e-03 -4.7902353e-03 -1.7818023e-02\n",
      "  -1.8575776e-02 -1.8810486e-02 -2.3317087e-02 -1.4342129e-02\n",
      "   8.7252744e-03 -2.1090508e-03 -2.0131409e-02]\n",
      " [ 1.8174890e-02 -2.9457582e-02  4.7813240e-02  2.8921191e-02\n",
      "  -3.3936612e-03  5.8644041e-03 -4.7902353e-03 -1.7818023e-02\n",
      "  -1.8575776e-02 -1.8810486e-02 -2.3317087e-02 -1.4342129e-02\n",
      "   8.7252744e-03 -2.1090508e-03 -2.0131409e-02]\n",
      " [ 1.8174890e-02 -2.9457582e-02  4.7813240e-02  2.8921191e-02\n",
      "  -3.3936612e-03  5.8644041e-03 -4.7902353e-03 -1.7818023e-02\n",
      "  -1.8575776e-02 -1.8810486e-02 -2.3317087e-02 -1.4342129e-02\n",
      "   8.7252744e-03 -2.1090508e-03 -2.0131409e-02]\n",
      " [ 1.8174890e-02 -2.9457582e-02  4.7813240e-02  2.8921191e-02\n",
      "  -3.3936612e-03  5.8644041e-03 -4.7902353e-03 -1.7818023e-02\n",
      "  -1.8575776e-02 -1.8810486e-02 -2.3317087e-02 -1.4342129e-02\n",
      "   8.7252744e-03 -2.1090508e-03 -2.0131409e-02]\n",
      " [ 3.0836117e-02 -3.1307567e-02 -9.8853000e-03 -2.2304345e-02\n",
      "  -2.1957271e-03  2.8759129e-03  1.8501990e-03  6.9738626e-03\n",
      "  -1.1386812e-02  2.6752364e-02 -3.3487789e-03  2.0885851e-02\n",
      "   1.7768290e-02  2.8554212e-02  1.2180865e-02]\n",
      " [ 8.2671642e-05  1.3506580e-02 -1.2028396e-02 -2.9906487e-02\n",
      "   3.5040151e-02 -1.1527799e-02  2.2082403e-04 -5.3485520e-03\n",
      "   2.5802854e-02 -4.9509741e-02 -2.6201880e-02  4.5683805e-02\n",
      "   6.3550845e-03  9.5406771e-03  3.1536583e-02]\n",
      " [-1.6079247e-02  3.1964790e-02  4.6529267e-02 -3.7270211e-02\n",
      "   2.0350765e-02  3.3497326e-03 -1.1114858e-02 -1.3384271e-02\n",
      "   9.2629343e-04  4.7875036e-02 -3.1208886e-02  2.2312887e-03\n",
      "   2.1220330e-02  2.9616807e-02  5.8146492e-03]\n",
      " [ 3.9123185e-03 -8.6339712e-03  2.5122140e-02  2.6480284e-02\n",
      "  -1.2701035e-02 -4.8669945e-02  3.9717201e-02  9.6897259e-03\n",
      "   3.9884117e-02  2.4815027e-02  1.7347645e-02  4.1164164e-02\n",
      "  -2.8507531e-02 -1.0267295e-02  3.0901816e-02]]\n"
     ]
    }
   ],
   "source": [
    "print(model.predict(embedded_docs)[0])"
   ]
  },
  {
   "cell_type": "code",
   "execution_count": null,
   "metadata": {},
   "outputs": [],
   "source": []
  }
 ],
 "metadata": {
  "kernelspec": {
   "display_name": "text_s",
   "language": "python",
   "name": "python3"
  },
  "language_info": {
   "codemirror_mode": {
    "name": "ipython",
    "version": 3
   },
   "file_extension": ".py",
   "mimetype": "text/x-python",
   "name": "python",
   "nbconvert_exporter": "python",
   "pygments_lexer": "ipython3",
   "version": "3.8.19"
  }
 },
 "nbformat": 4,
 "nbformat_minor": 2
}
